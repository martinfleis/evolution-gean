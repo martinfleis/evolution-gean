{
 "cells": [
  {
   "cell_type": "code",
   "execution_count": 1,
   "metadata": {},
   "outputs": [
    {
     "name": "stderr",
     "output_type": "stream",
     "text": [
      "Matplotlib created a temporary config/cache directory at /tmp/matplotlib-9r68bdbv because the default path (/home/jovyan/.config/matplotlib) is not a writable directory; it is highly recommended to set the MPLCONFIGDIR environment variable to a writable directory, in particular to speed up the import of Matplotlib and to better support multiprocessing.\n"
     ]
    }
   ],
   "source": [
    "import pandas as pd\n",
    "from shapely.geometry import Point\n",
    "import geopandas as gpd\n",
    "import matplotlib.pyplot as plt\n",
    "import glob\n",
    "import pathlib\n",
    "from palettable.wesanderson import Moonrise5_6"
   ]
  },
  {
   "cell_type": "code",
   "execution_count": 2,
   "metadata": {},
   "outputs": [],
   "source": [
    "files = glob.glob(\"data/*gpkg\")\n",
    "cases = pd.read_csv(\"data/case_studies.csv\")\n",
    "cases = cases.set_index(\"case\")"
   ]
  },
  {
   "cell_type": "code",
   "execution_count": 3,
   "metadata": {},
   "outputs": [],
   "source": [
    "%%capture --no-stdout\n",
    "\n",
    "for f in files:\n",
    "    tessellation = gpd.read_file(f, layer=\"tessellation\")\n",
    "    buildings = gpd.read_file(f, layer=\"buildings\")\n",
    "    edges = gpd.read_file(f, layer=\"edges\")\n",
    "    nodes = gpd.read_file(f, layer=\"nodes\")\n",
    "    case = pathlib.Path(f).stem\n",
    "    coords = cases.origin.loc[case]\n",
    "    buffer = gpd.GeoSeries([Point(tuple(map(float, coords[1:-1].split(', '))))], crs=4326).to_crs(tessellation.crs).buffer(400)\n",
    "    ax = gpd.clip(buildings, buffer).plot(zorder=1, color=Moonrise5_6.hex_colors[3], figsize=(12, 12))\n",
    "    buildings.plot(ax=ax, zorder=0, color=Moonrise5_6.hex_colors[3], alpha=.2)\n",
    "    buffer.plot(ax=ax, facecolor=\"none\", edgecolor=Moonrise5_6.hex_colors[4], linewidth=2)\n",
    "    ax.set_axis_off()\n",
    "    b = buffer.total_bounds\n",
    "    ax.set_xlim(b[0]-20, b[2]+20)\n",
    "    ax.set_ylim(b[1]-20, b[3]+20)\n",
    "    plt.savefig(f\"figures/{case}.png\", bbox_inches=\"tight\")\n",
    "    plt.close(\"all\")"
   ]
  },
  {
   "cell_type": "code",
   "execution_count": null,
   "metadata": {},
   "outputs": [],
   "source": []
  }
 ],
 "metadata": {
  "kernelspec": {
   "display_name": "Python 3",
   "language": "python",
   "name": "python3"
  },
  "language_info": {
   "codemirror_mode": {
    "name": "ipython",
    "version": 3
   },
   "file_extension": ".py",
   "mimetype": "text/x-python",
   "name": "python",
   "nbconvert_exporter": "python",
   "pygments_lexer": "ipython3",
   "version": "3.8.6"
  }
 },
 "nbformat": 4,
 "nbformat_minor": 4
}
